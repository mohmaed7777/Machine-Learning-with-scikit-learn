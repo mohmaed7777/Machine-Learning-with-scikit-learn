{
  "nbformat": 4,
  "nbformat_minor": 0,
  "metadata": {
    "colab": {
      "name": "Decision Tress(classification)#sklearn103.ipynb",
      "provenance": [],
      "authorship_tag": "ABX9TyOzvw8HOL3QfDIIE8z4CnBy",
      "include_colab_link": true
    },
    "kernelspec": {
      "name": "python3",
      "display_name": "Python 3"
    }
  },
  "cells": [
    {
      "cell_type": "markdown",
      "metadata": {
        "id": "view-in-github",
        "colab_type": "text"
      },
      "source": [
        "<a href=\"https://colab.research.google.com/github/mohmaed7777/Machine-Learning-with-scikit-learn/blob/master/Decision_Tress(classification)_sklearn103.ipynb\" target=\"_parent\"><img src=\"https://colab.research.google.com/assets/colab-badge.svg\" alt=\"Open In Colab\"/></a>"
      ]
    },
    {
      "cell_type": "markdown",
      "metadata": {
        "id": "l9rDrBTYnG8G",
        "colab_type": "text"
      },
      "source": [
        "# **Decision Trees:**\n",
        "This lab is about a popular machine learning algorithm, Decision Tree. You will use this classification algorithm to build a model from historical data of patients, and their response to different medications. Then you use the trained decision tree to predict the class of a unknown patient, or to find a proper drug for a new patient."
      ]
    },
    {
      "cell_type": "code",
      "metadata": {
        "id": "iUO6-cJ4mMFd",
        "colab_type": "code",
        "colab": {}
      },
      "source": [
        "# Import a requried libraries :\n",
        "import numpy as np \n",
        "import pandas as pd \n",
        "import sklearn \n",
        "from sklearn.tree import DecisionTreeClassifier"
      ],
      "execution_count": 0,
      "outputs": []
    },
    {
      "cell_type": "code",
      "metadata": {
        "id": "H2iAO6FKnoeN",
        "colab_type": "code",
        "colab": {}
      },
      "source": [
        ""
      ],
      "execution_count": 0,
      "outputs": []
    }
  ]
}